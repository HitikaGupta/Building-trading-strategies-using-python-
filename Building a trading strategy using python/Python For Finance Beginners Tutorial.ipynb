{
 "cells": [
  {
   "cell_type": "markdown",
   "metadata": {},
   "source": [
    "# Python for Finance Tutorial For Beginners\n",
    "\n",
    "*This notebook was made in preparation for the DataCamp tutorial \"Python for Finance Tutorial for Beginners\"; If you want more explanations on the code or on using Python for Finance, go to the full tutorial [here](https://www.datacamp.com/community/tutorials/finance-python-trading).*\n",
    "\n",
    "The full tutorial covers the following topics:\n",
    "\n",
    "* Getting Started With Python For Finance\n",
    "    - Stocks & Trading\n",
    "    - Time Series Data\n",
    "    - Setting Up The Workspace\n",
    "    - [Python Basics For Finance: Pandas](#basics)\n",
    "        - Importing Financial Data Into Python\n",
    "        - Working With Time Series Data \n",
    "        - Visualizing Time Series Data\n",
    "* [Common Financial Analyses](#commonanalyses)\n",
    "    - Returns\n",
    "    - Moving Windows\n",
    "    - Volatility Calculation\n",
    "    - Ordinary Least-Squares Regression (OLS)\n",
    "* [Building A Trading Strategy With Python](#tradingstrategy)\n",
    "* [Backtesting A Strategy](#backtesting)\n",
    "    - Implementation Of A Simple Backtester\n",
    "    - Backtesting With Zipline And Quantopian\n",
    "* Improving A Trading Strategy\n",
    "* [Evaluating The Trading Strategy](#evaluating)\n",
    "    - Sharpe Ratio\n",
    "    - Maximum Drawdown\n",
    "    - Compound Annual Growth Rate\n",
    "* What now?"
   ]
  },
  {
   "cell_type": "markdown",
   "metadata": {},
   "source": [
    "![DataCamp courses](http://community.datacamp.com.s3.amazonaws.com/community/production/ckeditor_assets/pictures/293/content_blog_banner.png)"
   ]
  },
  {
   "cell_type": "code",
   "execution_count": 1,
   "metadata": {},
   "outputs": [
    {
     "name": "stdout",
     "output_type": "stream",
     "text": [
      "pandas           : 1.2.4\n",
      "numpy            : 1.18.1\n",
      "datetime         : 4.3\n",
      "matplotlib       : 3.1.3\n",
      "pandas_datareader: 0.9.0\n",
      "yfinance         : 0.1.59\n",
      "\n"
     ]
    }
   ],
   "source": [
    "%load_ext watermark\n",
    "%watermark -p pandas,numpy,datetime,matplotlib,pandas_datareader,yfinance"
   ]
  },
  {
   "cell_type": "code",
   "execution_count": 2,
   "metadata": {},
   "outputs": [],
   "source": [
    "import pandas as pd\n",
    "import numpy as np\n",
    "import datetime\n",
    "import matplotlib.pyplot as plt"
   ]
  },
  {
   "cell_type": "markdown",
   "metadata": {},
   "source": [
    "<a id='basics'></a>\n",
    "## Python Basics For Finance: Pandas\n",
    "\n",
    "### Importing Data\n",
    "At this moment, there is a lot going on in the open-source community because of the changes to the Yahoo! Finance API. That's why you don't only use the `pandas_datareader` package, but also a custom fix `fix_yahoo_finance` to get your data:"
   ]
  },
  {
   "cell_type": "code",
   "execution_count": 4,
   "metadata": {},
   "outputs": [
    {
     "ename": "RemoteDataError",
     "evalue": "Unable to read URL: https://finance.yahoo.com/quote/AAPL/history?period1=1159655400&period2=1325456999&interval=1d&frequency=1d&filter=history\nResponse Text:\nb'<!DOCTYPE html>\\n  <html lang=\"en-us\"><head>\\n  <meta http-equiv=\"content-type\" content=\"text/html; charset=UTF-8\">\\n      <meta charset=\"utf-8\">\\n      <title>Yahoo</title>\\n      <meta name=\"viewport\" content=\"width=device-width,initial-scale=1,minimal-ui\">\\n      <meta http-equiv=\"X-UA-Compatible\" content=\"IE=edge,chrome=1\">\\n      <style>\\n  html {\\n      height: 100%;\\n  }\\n  body {\\n      background: #fafafc url(https://s.yimg.com/nn/img/sad-panda-201402200631.png) 50% 50%;\\n      background-size: cover;\\n      height: 100%;\\n      text-align: center;\\n      font: 300 18px \"helvetica neue\", helvetica, verdana, tahoma, arial, sans-serif;\\n  }\\n  table {\\n      height: 100%;\\n      width: 100%;\\n      table-layout: fixed;\\n      border-collapse: collapse;\\n      border-spacing: 0;\\n      border: none;\\n  }\\n  h1 {\\n      font-size: 42px;\\n      font-weight: 400;\\n      color: #400090;\\n  }\\n  p {\\n      color: #1A1A1A;\\n  }\\n  #message-1 {\\n      font-weight: bold;\\n      margin: 0;\\n  }\\n  #message-2 {\\n      display: inline-block;\\n      *display: inline;\\n      zoom: 1;\\n      max-width: 17em;\\n      _width: 17em;\\n  }\\n      </style>\\n  <script>\\n    document.write(\\'<img src=\"//geo.yahoo.com/b?s=1197757129&t=\\'+new Date().getTime()+\\'&src=aws&err_url=\\'+encodeURIComponent(document.URL)+\\'&err=%<pssc>&test=\\'+encodeURIComponent(\\'%<{Bucket}cqh[:200]>\\')+\\'\" width=\"0px\" height=\"0px\"/>\\');var beacon = new Image();beacon.src=\"//bcn.fp.yahoo.com/p?s=1197757129&t=\"+new Date().getTime()+\"&src=aws&err_url=\"+encodeURIComponent(document.URL)+\"&err=%<pssc>&test=\"+encodeURIComponent(\\'%<{Bucket}cqh[:200]>\\');\\n  </script>\\n  </head>\\n  <body>\\n  <!-- status code : 404 -->\\n  <!-- Not Found on Server -->\\n  <table>\\n  <tbody><tr>\\n      <td>\\n      <img src=\"https://s.yimg.com/rz/p/yahoo_frontpage_en-US_s_f_p_205x58_frontpage.png\" alt=\"Yahoo Logo\">\\n      <h1 style=\"margin-top:20px;\">Will be right back...</h1>\\n      <p id=\"message-1\">Thank you for your patience.</p>\\n      <p id=\"message-2\">Our engineers are working quickly to resolve the issue.</p>\\n      </td>\\n  </tr>\\n  </tbody></table>\\n  </body></html>'",
     "output_type": "error",
     "traceback": [
      "\u001b[1;31m---------------------------------------------------------------------------\u001b[0m",
      "\u001b[1;31mRemoteDataError\u001b[0m                           Traceback (most recent call last)",
      "\u001b[1;32m<ipython-input-4-5bf3858a2928>\u001b[0m in \u001b[0;36m<module>\u001b[1;34m\u001b[0m\n\u001b[0;32m      4\u001b[0m aapl = pdr.get_data_yahoo('AAPL', \n\u001b[0;32m      5\u001b[0m                           \u001b[0mstart\u001b[0m\u001b[1;33m=\u001b[0m\u001b[0mdatetime\u001b[0m\u001b[1;33m.\u001b[0m\u001b[0mdatetime\u001b[0m\u001b[1;33m(\u001b[0m\u001b[1;36m2006\u001b[0m\u001b[1;33m,\u001b[0m \u001b[1;36m10\u001b[0m\u001b[1;33m,\u001b[0m \u001b[1;36m1\u001b[0m\u001b[1;33m)\u001b[0m\u001b[1;33m,\u001b[0m\u001b[1;33m\u001b[0m\u001b[1;33m\u001b[0m\u001b[0m\n\u001b[1;32m----> 6\u001b[1;33m                           end=datetime.datetime(2012, 1, 1))\n\u001b[0m\u001b[0;32m      7\u001b[0m \u001b[0maapl\u001b[0m\u001b[1;33m.\u001b[0m\u001b[0mhead\u001b[0m\u001b[1;33m(\u001b[0m\u001b[1;33m)\u001b[0m\u001b[1;33m\u001b[0m\u001b[1;33m\u001b[0m\u001b[0m\n",
      "\u001b[1;32m~\\anaconda3.7\\lib\\site-packages\\pandas_datareader\\data.py\u001b[0m in \u001b[0;36mget_data_yahoo\u001b[1;34m(*args, **kwargs)\u001b[0m\n\u001b[0;32m     84\u001b[0m \u001b[1;33m\u001b[0m\u001b[0m\n\u001b[0;32m     85\u001b[0m \u001b[1;32mdef\u001b[0m \u001b[0mget_data_yahoo\u001b[0m\u001b[1;33m(\u001b[0m\u001b[1;33m*\u001b[0m\u001b[0margs\u001b[0m\u001b[1;33m,\u001b[0m \u001b[1;33m**\u001b[0m\u001b[0mkwargs\u001b[0m\u001b[1;33m)\u001b[0m\u001b[1;33m:\u001b[0m\u001b[1;33m\u001b[0m\u001b[1;33m\u001b[0m\u001b[0m\n\u001b[1;32m---> 86\u001b[1;33m     \u001b[1;32mreturn\u001b[0m \u001b[0mYahooDailyReader\u001b[0m\u001b[1;33m(\u001b[0m\u001b[1;33m*\u001b[0m\u001b[0margs\u001b[0m\u001b[1;33m,\u001b[0m \u001b[1;33m**\u001b[0m\u001b[0mkwargs\u001b[0m\u001b[1;33m)\u001b[0m\u001b[1;33m.\u001b[0m\u001b[0mread\u001b[0m\u001b[1;33m(\u001b[0m\u001b[1;33m)\u001b[0m\u001b[1;33m\u001b[0m\u001b[1;33m\u001b[0m\u001b[0m\n\u001b[0m\u001b[0;32m     87\u001b[0m \u001b[1;33m\u001b[0m\u001b[0m\n\u001b[0;32m     88\u001b[0m \u001b[1;33m\u001b[0m\u001b[0m\n",
      "\u001b[1;32m~\\anaconda3.7\\lib\\site-packages\\pandas_datareader\\base.py\u001b[0m in \u001b[0;36mread\u001b[1;34m(self)\u001b[0m\n\u001b[0;32m    251\u001b[0m         \u001b[1;31m# If a single symbol, (e.g., 'GOOG')\u001b[0m\u001b[1;33m\u001b[0m\u001b[1;33m\u001b[0m\u001b[1;33m\u001b[0m\u001b[0m\n\u001b[0;32m    252\u001b[0m         \u001b[1;32mif\u001b[0m \u001b[0misinstance\u001b[0m\u001b[1;33m(\u001b[0m\u001b[0mself\u001b[0m\u001b[1;33m.\u001b[0m\u001b[0msymbols\u001b[0m\u001b[1;33m,\u001b[0m \u001b[1;33m(\u001b[0m\u001b[0mstring_types\u001b[0m\u001b[1;33m,\u001b[0m \u001b[0mint\u001b[0m\u001b[1;33m)\u001b[0m\u001b[1;33m)\u001b[0m\u001b[1;33m:\u001b[0m\u001b[1;33m\u001b[0m\u001b[1;33m\u001b[0m\u001b[0m\n\u001b[1;32m--> 253\u001b[1;33m             \u001b[0mdf\u001b[0m \u001b[1;33m=\u001b[0m \u001b[0mself\u001b[0m\u001b[1;33m.\u001b[0m\u001b[0m_read_one_data\u001b[0m\u001b[1;33m(\u001b[0m\u001b[0mself\u001b[0m\u001b[1;33m.\u001b[0m\u001b[0murl\u001b[0m\u001b[1;33m,\u001b[0m \u001b[0mparams\u001b[0m\u001b[1;33m=\u001b[0m\u001b[0mself\u001b[0m\u001b[1;33m.\u001b[0m\u001b[0m_get_params\u001b[0m\u001b[1;33m(\u001b[0m\u001b[0mself\u001b[0m\u001b[1;33m.\u001b[0m\u001b[0msymbols\u001b[0m\u001b[1;33m)\u001b[0m\u001b[1;33m)\u001b[0m\u001b[1;33m\u001b[0m\u001b[1;33m\u001b[0m\u001b[0m\n\u001b[0m\u001b[0;32m    254\u001b[0m         \u001b[1;31m# Or multiple symbols, (e.g., ['GOOG', 'AAPL', 'MSFT'])\u001b[0m\u001b[1;33m\u001b[0m\u001b[1;33m\u001b[0m\u001b[1;33m\u001b[0m\u001b[0m\n\u001b[0;32m    255\u001b[0m         \u001b[1;32melif\u001b[0m \u001b[0misinstance\u001b[0m\u001b[1;33m(\u001b[0m\u001b[0mself\u001b[0m\u001b[1;33m.\u001b[0m\u001b[0msymbols\u001b[0m\u001b[1;33m,\u001b[0m \u001b[0mDataFrame\u001b[0m\u001b[1;33m)\u001b[0m\u001b[1;33m:\u001b[0m\u001b[1;33m\u001b[0m\u001b[1;33m\u001b[0m\u001b[0m\n",
      "\u001b[1;32m~\\anaconda3.7\\lib\\site-packages\\pandas_datareader\\yahoo\\daily.py\u001b[0m in \u001b[0;36m_read_one_data\u001b[1;34m(self, url, params)\u001b[0m\n\u001b[0;32m    151\u001b[0m         \u001b[0murl\u001b[0m \u001b[1;33m=\u001b[0m \u001b[0murl\u001b[0m\u001b[1;33m.\u001b[0m\u001b[0mformat\u001b[0m\u001b[1;33m(\u001b[0m\u001b[0msymbol\u001b[0m\u001b[1;33m)\u001b[0m\u001b[1;33m\u001b[0m\u001b[1;33m\u001b[0m\u001b[0m\n\u001b[0;32m    152\u001b[0m \u001b[1;33m\u001b[0m\u001b[0m\n\u001b[1;32m--> 153\u001b[1;33m         \u001b[0mresp\u001b[0m \u001b[1;33m=\u001b[0m \u001b[0mself\u001b[0m\u001b[1;33m.\u001b[0m\u001b[0m_get_response\u001b[0m\u001b[1;33m(\u001b[0m\u001b[0murl\u001b[0m\u001b[1;33m,\u001b[0m \u001b[0mparams\u001b[0m\u001b[1;33m=\u001b[0m\u001b[0mparams\u001b[0m\u001b[1;33m)\u001b[0m\u001b[1;33m\u001b[0m\u001b[1;33m\u001b[0m\u001b[0m\n\u001b[0m\u001b[0;32m    154\u001b[0m         \u001b[0mptrn\u001b[0m \u001b[1;33m=\u001b[0m \u001b[1;34mr\"root\\.App\\.main = (.*?);\\n}\\(this\\)\\);\"\u001b[0m\u001b[1;33m\u001b[0m\u001b[1;33m\u001b[0m\u001b[0m\n\u001b[0;32m    155\u001b[0m         \u001b[1;32mtry\u001b[0m\u001b[1;33m:\u001b[0m\u001b[1;33m\u001b[0m\u001b[1;33m\u001b[0m\u001b[0m\n",
      "\u001b[1;32m~\\anaconda3.7\\lib\\site-packages\\pandas_datareader\\base.py\u001b[0m in \u001b[0;36m_get_response\u001b[1;34m(self, url, params, headers)\u001b[0m\n\u001b[0;32m    179\u001b[0m             \u001b[0mmsg\u001b[0m \u001b[1;33m+=\u001b[0m \u001b[1;34m\"\\nResponse Text:\\n{0}\"\u001b[0m\u001b[1;33m.\u001b[0m\u001b[0mformat\u001b[0m\u001b[1;33m(\u001b[0m\u001b[0mlast_response_text\u001b[0m\u001b[1;33m)\u001b[0m\u001b[1;33m\u001b[0m\u001b[1;33m\u001b[0m\u001b[0m\n\u001b[0;32m    180\u001b[0m \u001b[1;33m\u001b[0m\u001b[0m\n\u001b[1;32m--> 181\u001b[1;33m         \u001b[1;32mraise\u001b[0m \u001b[0mRemoteDataError\u001b[0m\u001b[1;33m(\u001b[0m\u001b[0mmsg\u001b[0m\u001b[1;33m)\u001b[0m\u001b[1;33m\u001b[0m\u001b[1;33m\u001b[0m\u001b[0m\n\u001b[0m\u001b[0;32m    182\u001b[0m \u001b[1;33m\u001b[0m\u001b[0m\n\u001b[0;32m    183\u001b[0m     \u001b[1;32mdef\u001b[0m \u001b[0m_get_crumb\u001b[0m\u001b[1;33m(\u001b[0m\u001b[0mself\u001b[0m\u001b[1;33m,\u001b[0m \u001b[1;33m*\u001b[0m\u001b[0margs\u001b[0m\u001b[1;33m)\u001b[0m\u001b[1;33m:\u001b[0m\u001b[1;33m\u001b[0m\u001b[1;33m\u001b[0m\u001b[0m\n",
      "\u001b[1;31mRemoteDataError\u001b[0m: Unable to read URL: https://finance.yahoo.com/quote/AAPL/history?period1=1159655400&period2=1325456999&interval=1d&frequency=1d&filter=history\nResponse Text:\nb'<!DOCTYPE html>\\n  <html lang=\"en-us\"><head>\\n  <meta http-equiv=\"content-type\" content=\"text/html; charset=UTF-8\">\\n      <meta charset=\"utf-8\">\\n      <title>Yahoo</title>\\n      <meta name=\"viewport\" content=\"width=device-width,initial-scale=1,minimal-ui\">\\n      <meta http-equiv=\"X-UA-Compatible\" content=\"IE=edge,chrome=1\">\\n      <style>\\n  html {\\n      height: 100%;\\n  }\\n  body {\\n      background: #fafafc url(https://s.yimg.com/nn/img/sad-panda-201402200631.png) 50% 50%;\\n      background-size: cover;\\n      height: 100%;\\n      text-align: center;\\n      font: 300 18px \"helvetica neue\", helvetica, verdana, tahoma, arial, sans-serif;\\n  }\\n  table {\\n      height: 100%;\\n      width: 100%;\\n      table-layout: fixed;\\n      border-collapse: collapse;\\n      border-spacing: 0;\\n      border: none;\\n  }\\n  h1 {\\n      font-size: 42px;\\n      font-weight: 400;\\n      color: #400090;\\n  }\\n  p {\\n      color: #1A1A1A;\\n  }\\n  #message-1 {\\n      font-weight: bold;\\n      margin: 0;\\n  }\\n  #message-2 {\\n      display: inline-block;\\n      *display: inline;\\n      zoom: 1;\\n      max-width: 17em;\\n      _width: 17em;\\n  }\\n      </style>\\n  <script>\\n    document.write(\\'<img src=\"//geo.yahoo.com/b?s=1197757129&t=\\'+new Date().getTime()+\\'&src=aws&err_url=\\'+encodeURIComponent(document.URL)+\\'&err=%<pssc>&test=\\'+encodeURIComponent(\\'%<{Bucket}cqh[:200]>\\')+\\'\" width=\"0px\" height=\"0px\"/>\\');var beacon = new Image();beacon.src=\"//bcn.fp.yahoo.com/p?s=1197757129&t=\"+new Date().getTime()+\"&src=aws&err_url=\"+encodeURIComponent(document.URL)+\"&err=%<pssc>&test=\"+encodeURIComponent(\\'%<{Bucket}cqh[:200]>\\');\\n  </script>\\n  </head>\\n  <body>\\n  <!-- status code : 404 -->\\n  <!-- Not Found on Server -->\\n  <table>\\n  <tbody><tr>\\n      <td>\\n      <img src=\"https://s.yimg.com/rz/p/yahoo_frontpage_en-US_s_f_p_205x58_frontpage.png\" alt=\"Yahoo Logo\">\\n      <h1 style=\"margin-top:20px;\">Will be right back...</h1>\\n      <p id=\"message-1\">Thank you for your patience.</p>\\n      <p id=\"message-2\">Our engineers are working quickly to resolve the issue.</p>\\n      </td>\\n  </tr>\\n  </tbody></table>\\n  </body></html>'"
     ]
    }
   ],
   "source": [
    "from pandas_datareader import data as pdr\n",
    "import yfinance\n",
    "\n",
    "aapl = pdr.get_data_yahoo('AAPL', \n",
    "                          start=datetime.datetime(2006, 10, 1), \n",
    "                          end=datetime.datetime(2012, 1, 1))\n",
    "aapl.head()"
   ]
  },
  {
   "cell_type": "markdown",
   "metadata": {},
   "source": [
    "The `pandas_datareader` offers a lot of possibilities to get financial data. If you don't want to make use of this package, however, you can also use Quandl to retrieve data:"
   ]
  },
  {
   "cell_type": "code",
   "execution_count": 8,
   "metadata": {},
   "outputs": [
    {
     "name": "stdout",
     "output_type": "stream",
     "text": [
      "              Open   High    Low  Close       Volume  Ex-Dividend  \\\n",
      "Date                                                                \n",
      "2007-01-03  86.290  86.58  81.90  83.80   44225700.0          0.0   \n",
      "2007-01-04  84.050  85.95  83.82  85.66   30259300.0          0.0   \n",
      "2007-01-05  85.770  86.20  84.40  85.05   29812200.0          0.0   \n",
      "2007-01-08  85.960  86.53  85.28  85.47   28468100.0          0.0   \n",
      "2007-01-09  86.450  92.98  85.15  92.57  119617800.0          0.0   \n",
      "2007-01-10  94.750  97.80  93.45  97.00  105460000.0          0.0   \n",
      "2007-01-11  95.940  96.78  95.10  95.80   51437600.0          0.0   \n",
      "2007-01-12  94.590  95.06  93.23  94.62   46881800.0          0.0   \n",
      "2007-01-16  95.680  97.25  95.45  97.10   44431300.0          0.0   \n",
      "2007-01-17  97.560  97.60  94.82  94.95   58795000.0          0.0   \n",
      "2007-01-18  92.100  92.11  89.05  89.07   84450200.0          0.0   \n",
      "2007-01-19  88.630  89.65  88.12  88.50   48731200.0          0.0   \n",
      "2007-01-22  89.140  89.16  85.65  86.79   51929500.0          0.0   \n",
      "2007-01-23  85.730  87.51  85.51  85.70   43122300.0          0.0   \n",
      "2007-01-24  86.680  87.15  86.08  86.70   33136200.0          0.0   \n",
      "2007-01-25  87.111  88.50  86.03  86.25   32356200.0          0.0   \n",
      "2007-01-26  87.115  87.37  84.99  85.38   35245500.0          0.0   \n",
      "2007-01-29  86.300  86.65  85.53  85.94   32202300.0          0.0   \n",
      "2007-01-30  86.430  86.49  85.25  85.55   20641800.0          0.0   \n",
      "2007-01-31  84.860  86.00  84.35  85.73   30573900.0          0.0   \n",
      "\n",
      "            Split Ratio  Adj. Open  Adj. High   Adj. Low  Adj. Close  \\\n",
      "Date                                                                   \n",
      "2007-01-03          1.0  11.089468  11.126737  10.525291   10.769468   \n",
      "2007-01-04          1.0  10.801596  11.045773  10.772038   11.008504   \n",
      "2007-01-05          1.0  11.022640  11.077901  10.846576   10.930110   \n",
      "2007-01-08          1.0  11.047058  11.120311  10.959669   10.984086   \n",
      "2007-01-09          1.0  11.110030  11.949226  10.942962   11.896535   \n",
      "2007-01-10          1.0  12.176696  12.568663  12.009627   12.465852   \n",
      "2007-01-11          1.0  12.329627  12.437579  12.221675   12.311635   \n",
      "2007-01-12          1.0  12.156133  12.216535  11.981354   12.159989   \n",
      "2007-01-16          1.0  12.296214  12.497980  12.266655   12.478703   \n",
      "2007-01-17          1.0  12.537820  12.542960  12.185692   12.202398   \n",
      "2007-01-18          1.0  11.836134  11.837419  11.444166   11.446736   \n",
      "2007-01-19          1.0  11.390190  11.521275  11.324648   11.373483   \n",
      "2007-01-22          1.0  11.455732  11.458303  11.007219   11.153725   \n",
      "2007-01-23          1.0  11.017500  11.246255  10.989227   11.013644   \n",
      "2007-01-24          1.0  11.139588  11.199990  11.062480   11.142158   \n",
      "2007-01-25          1.0  11.194978  11.373483  11.056054   11.084327   \n",
      "2007-01-26          1.0  11.195492  11.228263  10.922400   10.972520   \n",
      "2007-01-29          1.0  11.090753  11.135733  10.991797   11.044488   \n",
      "2007-01-30          1.0  11.107460  11.115170  10.955813   10.994367   \n",
      "2007-01-31          1.0  10.905693  11.052199  10.840151   11.017500   \n",
      "\n",
      "            Adj. Volume  \n",
      "Date                     \n",
      "2007-01-03  309579900.0  \n",
      "2007-01-04  211815100.0  \n",
      "2007-01-05  208685400.0  \n",
      "2007-01-08  199276700.0  \n",
      "2007-01-09  837324600.0  \n",
      "2007-01-10  738220000.0  \n",
      "2007-01-11  360063200.0  \n",
      "2007-01-12  328172600.0  \n",
      "2007-01-16  311019100.0  \n",
      "2007-01-17  411565000.0  \n",
      "2007-01-18  591151400.0  \n",
      "2007-01-19  341118400.0  \n",
      "2007-01-22  363506500.0  \n",
      "2007-01-23  301856100.0  \n",
      "2007-01-24  231953400.0  \n",
      "2007-01-25  226493400.0  \n",
      "2007-01-26  246718500.0  \n",
      "2007-01-29  225416100.0  \n",
      "2007-01-30  144492600.0  \n",
      "2007-01-31  214017300.0  \n"
     ]
    }
   ],
   "source": [
    "import quandl \n",
    "aapl = quandl.get(\"WIKI/AAPL\", start_date=\"2006-10-01\", end_date=\"2012-01-01\")\n",
    "aapl.head()\n",
    "print(aapl.loc['2007-01-01':'2007-01-31'])\n",
    "# aapl.describe()"
   ]
  },
  {
   "cell_type": "code",
   "execution_count": 11,
   "metadata": {},
   "outputs": [],
   "source": [
    "# Alternatively, you can load in a data set that has been retrieved for you already from Yahoo! Finance: \n",
    "aapl = pd.read_csv(\"https://s3.amazonaws.com/assets.datacamp.com/blog_assets/aapl.csv\", header=0, index_col= 0, names=['Open', 'High', 'Low', 'Close', 'Volume', 'Adj Close'], parse_dates=True)"
   ]
  },
  {
   "cell_type": "markdown",
   "metadata": {},
   "source": [
    "### Working With Time Series Data"
   ]
  },
  {
   "cell_type": "code",
   "execution_count": 12,
   "metadata": {},
   "outputs": [
    {
     "name": "stdout",
     "output_type": "stream",
     "text": [
      "DatetimeIndex(['2006-10-02', '2006-10-03', '2006-10-04', '2006-10-05',\n",
      "               '2006-10-06', '2006-10-09', '2006-10-10', '2006-10-11',\n",
      "               '2006-10-12', '2006-10-13',\n",
      "               ...\n",
      "               '2011-12-16', '2011-12-19', '2011-12-20', '2011-12-21',\n",
      "               '2011-12-22', '2011-12-23', '2011-12-27', '2011-12-28',\n",
      "               '2011-12-29', '2011-12-30'],\n",
      "              dtype='datetime64[ns]', length=1323, freq=None)\n",
      "Index(['Open', 'High', 'Low', 'Close', 'Volume', 'Adj Close'], dtype='object')\n"
     ]
    }
   ],
   "source": [
    "# Inspect the index \n",
    "print(aapl.index)\n",
    "\n",
    "# Inspect the columns\n",
    "print(aapl.columns)\n",
    "\n",
    "# Select only the last 10 observations of `Close`\n",
    "ts = aapl['Close'][-100:]\n",
    "\n",
    "# Check the type of `ts` \n",
    "# ts['2006-10-02']"
   ]
  },
  {
   "cell_type": "code",
   "execution_count": 15,
   "metadata": {},
   "outputs": [
    {
     "name": "stdout",
     "output_type": "stream",
     "text": [
      "2006-11-01 00:00:00\n"
     ]
    }
   ],
   "source": [
    "print(pd.Timestamp('2006-11-01'))"
   ]
  },
  {
   "cell_type": "code",
   "execution_count": 16,
   "metadata": {},
   "outputs": [
    {
     "name": "stdout",
     "output_type": "stream",
     "text": [
      "             Open   High    Low      Close       Volume  Adj Close\n",
      "2006-11-01  81.10  81.38  78.36  79.160004  152798100.0  11.308572\n",
      "2006-11-02  78.92  79.32  78.50  78.979996  116370800.0  11.282857\n",
      "2006-11-03  79.36  79.53  77.79  78.290001  107972200.0  11.184286\n",
      "2006-11-06  78.95  80.06  78.43  79.709999  108644200.0  11.387143\n",
      "2006-11-07  80.45  81.00  80.13  80.510002  131483100.0  11.501429\n",
      "2006-11-08  80.02  82.69  79.89  82.449997  172729200.0  11.778571\n",
      "2006-11-09  82.90  84.69  82.12  83.339996  230763400.0  11.905714\n",
      "2006-11-10  83.55  83.60  82.50  83.120003   93466100.0  11.874286\n",
      "2006-11-13  83.22  84.45  82.64  84.349998  112668500.0  12.050000\n",
      "2006-11-14  84.80  85.00  83.90  85.000000  147238700.0  12.142858\n",
      "2006-11-15  85.05  85.90  84.00  84.050003  163830800.0  12.007143\n",
      "2006-11-16  84.87  86.30  84.62  85.610001  173485200.0  12.230000\n",
      "2006-11-17  85.14  85.94  85.00  85.850006  116606000.0  12.264286\n",
      "2006-11-20  85.40  87.00  85.20  86.470001  142698500.0  12.352858\n",
      "2006-11-21  87.42  88.60  87.11  88.599998  155666700.0  12.657143\n",
      "2006-11-22  88.99  90.75  87.85  90.309998  167985300.0  12.901428\n",
      "2006-11-24  89.53  93.08  89.50  91.630005  129669400.0  13.090000\n",
      "2006-11-27  92.51  93.16  89.50  89.540001  268709000.0  12.791429\n",
      "2006-11-28  90.36  91.97  89.91  91.809998  259043400.0  13.115714\n",
      "2006-11-29  93.00  93.15  90.25  91.799995  289270800.0  13.114285\n",
      "2006-11-30  92.21  92.68  91.06  91.660004  217621600.0  13.094286\n",
      "2006-12-01  91.80  92.33  90.10  91.320000  198769900.0  13.045714\n",
      "2006-12-04  91.88  92.05  90.50  91.120003  177384200.0  13.017143\n",
      "2006-12-05  91.65  92.33  90.87  91.269997  165709600.0  13.038571\n",
      "2006-12-06  90.64  91.39  89.67  89.830002  159546100.0  12.832857\n",
      "2006-12-07  90.03  90.50  86.90  87.040001  251206900.0  12.434286\n",
      "2006-12-08  87.23  89.39  87.00  88.259995  196069300.0  12.608571\n",
      "2006-12-11  88.90  89.30  88.05  88.750000  124945100.0  12.678572\n",
      "2006-12-12  88.61  88.84  85.53  86.139999  256655000.0  12.305715\n",
      "2006-12-13  87.95  89.07  87.15  89.050003  214263000.0  12.721429\n",
      "2006-12-14  89.05  90.00  88.26  88.549995  208082700.0  12.650000\n",
      "2006-12-15  89.02  89.22  87.33  87.720001  184984800.0  12.531428\n",
      "2006-12-18  87.63  88.00  84.59  85.470001  180394200.0  12.210000\n",
      "2006-12-19  84.73  86.68  83.62  86.309998  227851400.0  12.330000\n",
      "2006-12-20  86.47  86.67  84.74  84.759995  141922900.0  12.108571\n",
      "2006-12-21  84.70  85.48  82.20  82.900002  225899800.0  11.842857\n",
      "2006-12-22  83.46  84.04  81.60  82.199997  153325900.0  11.742857\n",
      "2006-12-26  82.15  82.57  80.89  81.510002  122672200.0  11.644286\n",
      "2006-12-27  78.15  82.00  76.77  81.520004  483938700.0  11.645715\n",
      "2006-12-28  80.22  81.25  79.65  80.870003  279969200.0  11.552857\n",
      "2006-12-29  83.95  85.40  83.36  84.839996  269107300.0  12.120000\n",
      "              Open    High     Low       Close       Volume  Adj Close\n",
      "2007-01-03   86.29   86.58   81.90   83.800003  309579900.0  11.971429\n",
      "2007-01-04   84.05   85.95   83.82   85.659996  211815100.0  12.237143\n",
      "2007-01-05   85.77   86.20   84.40   85.049995  208685400.0  12.150000\n",
      "2007-01-08   85.96   86.53   85.28   85.470001  199276700.0  12.210000\n",
      "2007-01-09   86.45   92.98   85.15   92.570000  837324600.0  13.224286\n",
      "...            ...     ...     ...         ...          ...        ...\n",
      "2007-12-24  195.03  199.33  194.79  198.800003  120050700.0  28.400000\n",
      "2007-12-26  199.01  200.96  196.82  198.949997  175933100.0  28.421429\n",
      "2007-12-27  198.95  202.96  197.80  198.570007  198881900.0  28.367144\n",
      "2007-12-28  200.59  201.56  196.88  199.829987  174911800.0  28.547142\n",
      "2007-12-31  199.50  200.50  197.75  198.079987  134833300.0  28.297142\n",
      "\n",
      "[251 rows x 6 columns]\n",
      "             Open   High    Low      Close       Volume  Adj Close\n",
      "2006-11-01  81.10  81.38  78.36  79.160004  152798100.0  11.308572\n",
      "2006-11-02  78.92  79.32  78.50  78.979996  116370800.0  11.282857\n",
      "2006-11-03  79.36  79.53  77.79  78.290001  107972200.0  11.184286\n",
      "2006-11-06  78.95  80.06  78.43  79.709999  108644200.0  11.387143\n",
      "2006-11-07  80.45  81.00  80.13  80.510002  131483100.0  11.501429\n",
      "2006-11-08  80.02  82.69  79.89  82.449997  172729200.0  11.778571\n",
      "2006-11-09  82.90  84.69  82.12  83.339996  230763400.0  11.905714\n",
      "2006-11-10  83.55  83.60  82.50  83.120003   93466100.0  11.874286\n",
      "2006-11-13  83.22  84.45  82.64  84.349998  112668500.0  12.050000\n",
      "2006-11-14  84.80  85.00  83.90  85.000000  147238700.0  12.142858\n",
      "2006-11-15  85.05  85.90  84.00  84.050003  163830800.0  12.007143\n",
      "2006-11-16  84.87  86.30  84.62  85.610001  173485200.0  12.230000\n",
      "2006-11-17  85.14  85.94  85.00  85.850006  116606000.0  12.264286\n",
      "2006-11-20  85.40  87.00  85.20  86.470001  142698500.0  12.352858\n",
      "2006-11-21  87.42  88.60  87.11  88.599998  155666700.0  12.657143\n",
      "2006-11-22  88.99  90.75  87.85  90.309998  167985300.0  12.901428\n",
      "2006-11-24  89.53  93.08  89.50  91.630005  129669400.0  13.090000\n",
      "2006-11-27  92.51  93.16  89.50  89.540001  268709000.0  12.791429\n",
      "2006-11-28  90.36  91.97  89.91  91.809998  259043400.0  13.115714\n",
      "2006-11-29  93.00  93.15  90.25  91.799995  289270800.0  13.114285\n",
      "2006-11-30  92.21  92.68  91.06  91.660004  217621600.0  13.094286\n",
      "             Open   High    Low      Close       Volume  Adj Close\n",
      "2006-11-01  81.10  81.38  78.36  79.160004  152798100.0  11.308572\n",
      "2006-11-02  78.92  79.32  78.50  78.979996  116370800.0  11.282857\n",
      "2006-11-03  79.36  79.53  77.79  78.290001  107972200.0  11.184286\n",
      "2006-11-06  78.95  80.06  78.43  79.709999  108644200.0  11.387143\n",
      "2006-11-07  80.45  81.00  80.13  80.510002  131483100.0  11.501429\n",
      "2006-11-08  80.02  82.69  79.89  82.449997  172729200.0  11.778571\n",
      "2006-11-09  82.90  84.69  82.12  83.339996  230763400.0  11.905714\n",
      "2006-11-10  83.55  83.60  82.50  83.120003   93466100.0  11.874286\n",
      "2006-11-13  83.22  84.45  82.64  84.349998  112668500.0  12.050000\n",
      "2006-11-14  84.80  85.00  83.90  85.000000  147238700.0  12.142858\n",
      "2006-11-15  85.05  85.90  84.00  84.050003  163830800.0  12.007143\n",
      "2006-11-16  84.87  86.30  84.62  85.610001  173485200.0  12.230000\n",
      "2006-11-17  85.14  85.94  85.00  85.850006  116606000.0  12.264286\n",
      "2006-11-20  85.40  87.00  85.20  86.470001  142698500.0  12.352858\n",
      "2006-11-21  87.42  88.60  87.11  88.599998  155666700.0  12.657143\n",
      "2006-11-22  88.99  90.75  87.85  90.309998  167985300.0  12.901428\n",
      "2006-11-24  89.53  93.08  89.50  91.630005  129669400.0  13.090000\n",
      "2006-11-27  92.51  93.16  89.50  89.540001  268709000.0  12.791429\n",
      "2006-11-28  90.36  91.97  89.91  91.809998  259043400.0  13.115714\n",
      "2006-11-29  93.00  93.15  90.25  91.799995  289270800.0  13.114285\n",
      "2006-11-30  92.21  92.68  91.06  91.660004  217621600.0  13.094286\n",
      "            Open      Close\n",
      "2006-11-01  81.1  79.160004\n",
      "2006-12-01  91.8  91.320000\n"
     ]
    }
   ],
   "source": [
    "# Inspect the first rows of November-December 2006\n",
    "print(aapl.loc['2006-11-01':'2006-12-31'])\n",
    "\n",
    "# Inspect the first rows of 2007 \n",
    "print(aapl.loc['2007'])\n",
    "\n",
    "# Inspect November 2006\n",
    "print(aapl.loc['2006-11'])\n",
    "print(aapl.iloc[22:43])\n",
    "\n",
    "# Inspect the 'Open' and 'Close' values at 2006-11-01 and 2006-12-01\n",
    "print(aapl.iloc[[22,43], [0, 3]])"
   ]
  },
  {
   "cell_type": "code",
   "execution_count": 17,
   "metadata": {},
   "outputs": [
    {
     "name": "stdout",
     "output_type": "stream",
     "text": [
      "              Open    High     Low       Close       Volume  Adj Close\n",
      "2010-02-04  196.73  198.37  191.57  192.050003  189413000.0  27.435715\n",
      "2009-03-12   92.90   96.58   92.00   96.350006  192114300.0  13.764286\n",
      "2008-05-08  183.77  186.50  183.07  185.059998  224771400.0  26.437143\n",
      "2011-06-27  327.59  333.90  327.25  332.039978   84953400.0  47.434284\n",
      "2007-04-05   94.12   94.68   93.52   94.680000   88879000.0  13.525714\n",
      "2010-03-11  223.91  225.50  223.32  225.500000  101425100.0  32.214287\n",
      "2008-03-26  140.87  145.74  140.64  145.059998  295521100.0  20.722857\n",
      "2007-01-08   85.96   86.53   85.28   85.470001  199276700.0  12.210000\n",
      "2007-06-28  122.36  122.49  120.00  120.559998  209535900.0  17.222857\n",
      "2009-11-25  205.40  205.65  203.76  204.190002   71613500.0  29.170000\n",
      "2009-04-02  110.14  114.75  109.78  112.710007  203091700.0  16.101429\n",
      "2011-12-23  399.69  403.59  399.49  403.330017   67349800.0  57.618572\n",
      "2008-05-28  187.41  187.95  183.72  187.009995  185994900.0  26.715714\n",
      "2011-08-17  382.31  384.52  378.00  380.440002  110515300.0  54.348572\n",
      "2009-08-18  161.63  164.24  161.41  164.000000  107788100.0  23.428572\n",
      "2010-07-07  250.49  258.77  249.75  258.670013  163639000.0  36.952858\n",
      "2011-12-15  383.33  383.74  378.31  378.940002   64050000.0  54.134285\n",
      "2009-09-03  166.44  167.10  165.00  166.549988   73488800.0  23.792856\n",
      "2006-10-02   75.10   75.87   74.30   74.860001  178159800.0  10.694285\n",
      "2007-09-13  138.83  139.00  136.65  137.199997  164040800.0  19.600000\n",
      "\n",
      "                Open     High      Low        Close        Volume    Adj Close\n",
      "2006-10-31  1694.45  1713.06  1677.54  1696.769996  3.596989e+09   242.395713\n",
      "2006-11-30  1787.75  1810.25  1768.26  1792.240006  3.458721e+09   256.034288\n",
      "2006-12-31  1738.22  1756.51  1708.78  1729.429994  4.222698e+09   247.061429\n",
      "2007-01-31  1781.13  1803.32  1753.16  1777.629982  6.802445e+09   253.947144\n",
      "2007-02-28  1629.53  1646.93  1610.87  1628.830002  3.430589e+09   232.689999\n",
      "...             ...      ...      ...          ...           ...          ...\n",
      "2011-08-31  8676.99  8782.55  8536.43  8665.540098  4.035650e+09  1237.934288\n",
      "2011-09-30  8239.97  8341.65  8149.40  8242.360046  2.994362e+09  1177.480002\n",
      "2011-10-31  8331.62  8438.15  8222.04  8341.829988  3.285357e+09  1191.690001\n",
      "2011-11-30  8111.63  8166.47  8015.41  8081.120026  2.240925e+09  1154.445717\n",
      "2011-12-31  8248.18  8308.96  8192.93  8251.540008  1.576633e+09  1178.791430\n",
      "\n",
      "[63 rows x 6 columns]\n"
     ]
    }
   ],
   "source": [
    "# Sample 20 rows\n",
    "sam = aapl.sample(20)\n",
    "\n",
    "# Print `sample`\n",
    "print(sam)\n",
    "\n",
    "# Resample to monthly level \n",
    "monthly_aapl = aapl.resample('M')\n",
    "\n",
    "# Print `monthly_aapl`\n",
    "print(\"\\n\", monthly_aapl.sum())"
   ]
  },
  {
   "cell_type": "code",
   "execution_count": 18,
   "metadata": {},
   "outputs": [
    {
     "name": "stdout",
     "output_type": "stream",
     "text": [
      "              Open    High     Low       Close       Volume  Adj Close  \\\n",
      "2006-10-02   75.10   75.87   74.30   74.860001  178159800.0  10.694285   \n",
      "2006-10-03   74.45   74.95   73.19   74.080002  197677200.0  10.582857   \n",
      "2006-10-04   74.10   75.46   73.16   75.380005  207270700.0  10.768572   \n",
      "2006-10-05   74.53   76.16   74.13   74.829994  170970800.0  10.690000   \n",
      "2006-10-06   74.42   75.04   73.81   74.220001  116739700.0  10.602858   \n",
      "...            ...     ...     ...         ...          ...        ...   \n",
      "2011-12-23  399.69  403.59  399.49  403.330017   67349800.0  57.618572   \n",
      "2011-12-27  403.10  409.09  403.02  406.529999   66269000.0  58.075714   \n",
      "2011-12-28  406.89  408.25  401.34  402.640015   57165500.0  57.520000   \n",
      "2011-12-29  403.40  405.65  400.51  405.119995   53994500.0  57.874287   \n",
      "2011-12-30  403.51  406.28  403.49  405.000000   44915500.0  57.857143   \n",
      "\n",
      "                diff  \n",
      "2006-10-02  0.239999  \n",
      "2006-10-03  0.369998  \n",
      "2006-10-04 -1.280005  \n",
      "2006-10-05 -0.299994  \n",
      "2006-10-06  0.199999  \n",
      "...              ...  \n",
      "2011-12-23 -3.640017  \n",
      "2011-12-27 -3.429999  \n",
      "2011-12-28  4.249985  \n",
      "2011-12-29 -1.719995  \n",
      "2011-12-30 -1.490000  \n",
      "\n",
      "[1323 rows x 7 columns]\n"
     ]
    }
   ],
   "source": [
    "# Add a column `diff` to `aapl` \n",
    "aapl['diff'] = aapl.Open - aapl.Close\n",
    "print(aapl)\n",
    "\n",
    "# Delete the new `diff` column\n",
    "del aapl['diff']"
   ]
  },
  {
   "cell_type": "code",
   "execution_count": 19,
   "metadata": {},
   "outputs": [
    {
     "data": {
      "text/plain": [
       "<matplotlib.axes._subplots.AxesSubplot at 0x1d1e1950a48>"
      ]
     },
     "execution_count": 19,
     "metadata": {},
     "output_type": "execute_result"
    },
    {
     "data": {
      "image/png": "[encoded data removed]",
      "text/plain": [
       "<Figure size 720x576 with 1 Axes>"
      ]
     },
     "metadata": {
      "needs_background": "light"
     },
     "output_type": "display_data"
    }
   ],
   "source": [
    "# Import Matplotlib's `pyplot` module as `plt`\n",
    "import matplotlib.pyplot as plt\n",
    "\n",
    "# Plot the closing prices for `aapl`\n",
    "aapl['Close'].plot(figsize=(10, 8), kind='hist')\n",
    "\n",
    "# Show the plot\n",
    "# plt.show()"
   ]
  },
  {
   "cell_type": "markdown",
   "metadata": {},
   "source": [
    "<a id='commonanalyses'></a>\n",
    "## Common Financial Analysis\n",
    "\n",
    "### Returns\n",
    "* 1\n",
    "* 2"
   ]
  },
  {
   "cell_type": "code",
   "execution_count": 20,
   "metadata": {},
   "outputs": [
    {
     "name": "stdout",
     "output_type": "stream",
     "text": [
      "            Adj Close    Volume\n",
      "2006-10-02   0.000000  0.000000\n",
      "2006-10-03  -0.010419  0.109550\n",
      "2006-10-04   0.017549  0.048531\n",
      "2006-10-05  -0.007296 -0.175133\n",
      "2006-10-06  -0.008152 -0.317195\n",
      "            Adj Close    Volume\n",
      "2006-10-02   0.000000  0.000000\n",
      "2006-10-03  -0.010474  0.103954\n",
      "2006-10-04   0.017396  0.047390\n",
      "2006-10-05  -0.007323 -0.192533\n",
      "2006-10-06  -0.008185 -0.381546\n"
     ]
    }
   ],
   "source": [
    "# Assign `Adj Close` to `daily_close`\n",
    "daily_close = aapl[['Adj Close', 'Volume']]\n",
    "\n",
    "# print(type(daily_close))\n",
    "\n",
    "# Daily returns\n",
    "daily_pct_c = daily_close.pct_change()\n",
    "\n",
    "# Replace NA values with 0\n",
    "daily_pct_c.fillna(0, inplace=True)\n",
    "\n",
    "# Inspect daily returns\n",
    "print(daily_pct_c.head())\n",
    "\n",
    "# Daily log returns\n",
    "daily_log_returns = np.log(daily_close.pct_change()+1)\n",
    "daily_log_returns2 = daily_log_returns.fillna(0)\n",
    "\n",
    "# Print daily log returns\n",
    "print(daily_log_returns2.head())"
   ]
  },
  {
   "cell_type": "code",
   "execution_count": 21,
   "metadata": {},
   "outputs": [
    {
     "name": "stdout",
     "output_type": "stream",
     "text": [
      "                Open      High       Low     Close    Volume  Adj Close\n",
      "2006-10-31       NaN       NaN       NaN       NaN       NaN        NaN\n",
      "2006-11-30  0.132106  0.134672  0.134987  0.130488  0.735854   0.130488\n",
      "2006-12-29 -0.089578 -0.078550 -0.084560 -0.074405  0.236584  -0.074405\n",
      "2007-01-31  0.010840  0.007026  0.011876  0.010490 -0.204714   0.010490\n",
      "2007-02-28 -0.021918 -0.004651 -0.016005 -0.013064  0.074066  -0.013064\n",
      "...              ...       ...       ...       ...       ...        ...\n",
      "2011-08-31  0.007559 -0.007769 -0.005573 -0.014469 -0.173887  -0.014469\n",
      "2011-09-30 -0.008833 -0.008136 -0.001781 -0.009121  0.047943  -0.009121\n",
      "2011-10-31  0.039523  0.052560  0.052128  0.061523 -0.296069   0.061523\n",
      "2011-11-30 -0.052507 -0.066084 -0.056726 -0.055783  0.053015  -0.055783\n",
      "2011-12-30  0.058276  0.062781  0.066587  0.059655 -0.557416   0.059655\n",
      "\n",
      "[63 rows x 6 columns]\n",
      "                Open      High       Low     Close    Volume  Adj Close\n",
      "2006-10-31       NaN       NaN       NaN       NaN       NaN        NaN\n",
      "2007-02-28  0.125777  0.126451  0.121460  0.122860  0.369611   0.122860\n",
      "2007-06-30  0.196030  0.195413  0.198331  0.197735 -0.080296   0.197735\n",
      "2007-10-31  0.400961  0.404613  0.392010  0.400796  0.306882   0.400796\n",
      "2008-02-29  0.127066  0.130711  0.117746  0.120394  0.172293   0.120394\n",
      "2008-06-30 -0.003550 -0.004290  0.005927  0.003673 -0.209762   0.003673\n",
      "2008-10-31 -0.114267 -0.108879 -0.124618 -0.118803  0.133219  -0.118803\n",
      "2009-02-28 -0.363639 -0.363388 -0.359305 -0.360865 -0.161601  -0.360865\n",
      "2009-06-30  0.312134  0.304359  0.324702  0.316588 -0.386935   0.316588\n",
      "2009-10-31  0.421239  0.411193  0.425117  0.415901 -0.158270   0.415901\n",
      "2010-02-28  0.175612  0.176085  0.172864  0.173693  0.170633   0.173693\n",
      "2010-06-30  0.223045  0.223317  0.219063  0.223611  0.203680   0.223611\n",
      "2010-10-31  0.094380  0.094268  0.099356  0.096125 -0.157478   0.096125\n",
      "2011-02-28  0.221393  0.218082  0.225622  0.221858 -0.230726   0.221858\n",
      "2011-06-30  0.034143  0.033863  0.031616  0.031222 -0.043455   0.031222\n",
      "2011-10-31  0.127202  0.133189  0.124572  0.130452  0.429821   0.130452\n",
      "2012-02-29  0.013755  0.008387  0.016799  0.011002 -0.404723   0.011002\n"
     ]
    }
   ],
   "source": [
    "# Resample `aapl` to business months, take last observation as value \n",
    "def report_average(list_values):\n",
    "#     return list_values[-1]\n",
    "    return sum(list_values)/len(list_values)\n",
    "\n",
    "monthly = aapl.resample('BM').apply(lambda x: x[-1])\n",
    "# monthly = aapl.resample('BM').apply(report)\n",
    "\n",
    "# Calculate the monthly percentage change\n",
    "print(monthly.pct_change())\n",
    "\n",
    "# Resample `aapl` to quarters, take the mean as value per quarter\n",
    "# quarter = aapl.resample(\"4M\").apply(report_average)\n",
    "# quarter = aapl.resample(\"4M\").apply(lambda x: sum(x)/len(x))\n",
    "quarter = aapl.resample(\"4M\").mean()\n",
    "\n",
    "# Calculate the quarterly percentage change\n",
    "print(quarter.pct_change())"
   ]
  },
  {
   "cell_type": "code",
   "execution_count": 22,
   "metadata": {},
   "outputs": [
    {
     "name": "stdout",
     "output_type": "stream",
     "text": [
      "            Adj Close      Volume\n",
      "2011-12-23  57.618572  67349800.0\n",
      "2011-12-27  58.075714  66269000.0\n",
      "2011-12-28  57.520000  57165500.0\n",
      "2011-12-29  57.874287  53994500.0\n",
      "2011-12-30  57.857143  44915500.0\n",
      "            Adj Close      Volume\n",
      "2011-12-23  56.935715  50589700.0\n",
      "2011-12-27  57.618572  67349800.0\n",
      "2011-12-28  58.075714  66269000.0\n",
      "2011-12-29  57.520000  57165500.0\n",
      "2011-12-30  57.874287  53994500.0\n",
      "            Adj Close    Volume\n",
      "2006-10-02        NaN       NaN\n",
      "2006-10-03  -0.010419  0.109550\n",
      "2006-10-04   0.017549  0.048531\n",
      "2006-10-05  -0.007296 -0.175133\n",
      "2006-10-06  -0.008152 -0.317195\n",
      "...               ...       ...\n",
      "2011-12-23   0.011993  0.331295\n",
      "2011-12-27   0.007934 -0.016048\n",
      "2011-12-28  -0.009569 -0.137372\n",
      "2011-12-29   0.006159 -0.055471\n",
      "2011-12-30  -0.000296 -0.168147\n",
      "\n",
      "[1323 rows x 2 columns]\n"
     ]
    }
   ],
   "source": [
    "# Daily returns\n",
    "print(daily_close.tail())\n",
    "print(daily_close.shift(1).tail())\n",
    "\n",
    "daily_pct_c = daily_close / daily_close.shift(1) - 1\n",
    "\n",
    "# Print `daily_pct_c`\n",
    "print(daily_pct_c)"
   ]
  },
  {
   "cell_type": "code",
   "execution_count": 23,
   "metadata": {},
   "outputs": [
    {
     "data": {
      "image/png": "[encoded data removed]",
      "text/plain": [
       "<Figure size 432x288 with 2 Axes>"
      ]
     },
     "metadata": {
      "needs_background": "light"
     },
     "output_type": "display_data"
    },
    {
     "name": "stdout",
     "output_type": "stream",
     "text": [
      "         Adj Close       Volume\n",
      "count  1322.000000  1322.000000\n",
      "mean      0.001566     0.050442\n",
      "std       0.023992     0.377852\n",
      "min      -0.179195    -0.669079\n",
      "25%      -0.010672    -0.183473\n",
      "50%       0.001677    -0.010483\n",
      "75%       0.014306     0.204777\n",
      "max       0.139050     5.090526\n"
     ]
    }
   ],
   "source": [
    "# Import matplotlib\n",
    "import matplotlib.pyplot as plt\n",
    "\n",
    "# Plot the distribution of `daily_pct_c`\n",
    "daily_pct_c.hist(bins=100)\n",
    "\n",
    "# Show the plot\n",
    "plt.show()\n",
    "\n",
    "# Pull up summary statistics\n",
    "print(daily_pct_c.describe())"
   ]
  },
  {
   "cell_type": "code",
   "execution_count": 24,
   "metadata": {},
   "outputs": [
    {
     "name": "stdout",
     "output_type": "stream",
     "text": [
      "            Adj Close    Volume\n",
      "2006-10-02        NaN       NaN\n",
      "2006-10-03   0.989581  1.109550\n",
      "2006-10-04   1.006946  1.163398\n",
      "2006-10-05   0.999599  0.959649\n",
      "2006-10-06   0.991451  0.655253\n",
      "...               ...       ...\n",
      "2011-12-23   5.387791  0.378030\n",
      "2011-12-27   5.430537  0.371964\n",
      "2011-12-28   5.378574  0.320866\n",
      "2011-12-29   5.411702  0.303068\n",
      "2011-12-30   5.410099  0.252108\n",
      "\n",
      "[1323 rows x 2 columns]\n"
     ]
    }
   ],
   "source": [
    "# Calculate the cumulative daily returns\n",
    "cum_daily_return = (1 + daily_pct_c).cumprod()\n",
    "\n",
    "# Print `cum_daily_return`\n",
    "print(cum_daily_return)"
   ]
  },
  {
   "cell_type": "code",
   "execution_count": null,
   "metadata": {},
   "outputs": [],
   "source": [
    "# Import matplotlib\n",
    "import matplotlib.pyplot as plt \n",
    "\n",
    "# Plot the cumulative daily returns\n",
    "cum_daily_return.plot(figsize=(12,8))\n",
    "\n",
    "# Show the plot\n",
    "plt.show()"
   ]
  },
  {
   "cell_type": "code",
   "execution_count": null,
   "metadata": {},
   "outputs": [],
   "source": [
    "# Resample the cumulative daily return to cumulative monthly return \n",
    "cum_monthly_return = cum_daily_return.resample(\"M\").mean()\n",
    "\n",
    "# Print the `cum_monthly_return`\n",
    "print(cum_monthly_return)\n",
    "\n",
    "cum_monthly_return.plot(figsize=(20, 8))\n",
    "plt.show()"
   ]
  },
  {
   "cell_type": "code",
   "execution_count": null,
   "metadata": {},
   "outputs": [],
   "source": [
    "from pandas_datareader import data as pdr\n",
    "import yfinance\n",
    "import datetime\n",
    "import pandas as pd\n",
    "\n",
    "def get(tickers, startdate, enddate):\n",
    "    def data(ticker):\n",
    "        return (pdr.get_data_yahoo(ticker, start=startdate, end=enddate))\n",
    "    datas = map (data, tickers)\n",
    "    return(pd.concat(datas, keys=tickers, names=['Ticker', 'Date']))\n",
    "\n",
    "tickers = ['AAPL', 'MSFT', 'IBM', 'GOOG']\n",
    "all_data = get(tickers, datetime.datetime(2006, 10, 1), datetime.datetime(2012, 1, 1))\n",
    "all_data.head()"
   ]
  },
  {
   "cell_type": "code",
   "execution_count": null,
   "metadata": {},
   "outputs": [],
   "source": [
    "# Isolate the adjusted closing price\n",
    "import numpy as np\n",
    "\n",
    "all_adj_close = all_data[['Adj Close']]\n",
    "\n",
    "# Calculate the returns \n",
    "all_returns = np.log(all_adj_close / all_adj_close.shift(1))\n",
    "\n",
    "aapl_returns = all_returns.iloc[all_returns.index.get_level_values('Ticker') == 'AAPL']\n",
    "aapl_returns.index = aapl_returns.index.droplevel('Ticker')\n",
    "\n",
    "# Isolate the MSFT returns\n",
    "msft_returns = all_returns.iloc[all_returns.index.get_level_values('Ticker') == 'MSFT']\n",
    "msft_returns.index = msft_returns.index.droplevel('Ticker')\n",
    "\n",
    "# Build up a new DataFrame with AAPL and MSFT returns\n",
    "return_data = pd.concat([aapl_returns, msft_returns], axis=1)[1:]\n",
    "return_data.columns = ['AAPL', 'MSFT']\n",
    "return_data"
   ]
  },
  {
   "cell_type": "code",
   "execution_count": null,
   "metadata": {},
   "outputs": [],
   "source": [
    "import statsmodels.api as sm\n",
    "X = sm.add_constant(return_data['AAPL'])\n",
    "\n",
    "# Construct the model\n",
    "model = sm.OLS(return_data['MSFT'],X).fit()\n",
    "\n",
    "# Print the summary\n",
    "print(model.summary())"
   ]
  },
  {
   "cell_type": "code",
   "execution_count": null,
   "metadata": {},
   "outputs": [],
   "source": [
    "#all_data = pd.read_csv(\"https://s3.amazonaws.com/assets.datacamp.com/blog_assets/all_stock_data.csv\", index_col= [0,1], header=0, parse_dates=[1])"
   ]
  },
  {
   "cell_type": "code",
   "execution_count": null,
   "metadata": {},
   "outputs": [],
   "source": [
    "daily_close_px = all_data[['Adj Close']].reset_index().pivot('Date', 'Ticker', 'Adj Close')\n",
    "\n",
    "# Calculate the daily percentage change for `daily_close_px`\n",
    "daily_pct_change = daily_close_px.pct_change()\n",
    " \n",
    "# Plot the distributions\n",
    "daily_pct_change.hist(bins=50, sharex=True, figsize=(12,8))\n",
    "\n",
    "# Show the resulting plot\n",
    "plt.show()"
   ]
  },
  {
   "cell_type": "code",
   "execution_count": null,
   "metadata": {},
   "outputs": [],
   "source": [
    "# Plot a scatter matrix with the `daily_pct_change` data \n",
    "pd.plotting.scatter_matrix(daily_pct_change, diagonal='kde', alpha=0.1,figsize=(12,12))\n",
    "\n",
    "# Show the plot\n",
    "plt.show()"
   ]
  },
  {
   "cell_type": "markdown",
   "metadata": {},
   "source": [
    "### Moving Windows"
   ]
  },
  {
   "cell_type": "code",
   "execution_count": null,
   "metadata": {},
   "outputs": [],
   "source": [
    "# Isolate the adjusted closing prices \n",
    "adj_close_px = aapl['Adj Close']\n",
    "\n",
    "# Calculate the moving average\n",
    "moving_avg = adj_close_px.rolling(window=40).mean()\n",
    "\n",
    "# Inspect the result\n",
    "print(moving_avg[-10:])\n",
    "moving_avg.plot()"
   ]
  },
  {
   "cell_type": "code",
   "execution_count": null,
   "metadata": {},
   "outputs": [],
   "source": [
    "# Short moving window rolling mean\n",
    "aapl['42'] = adj_close_px.rolling(window=40).mean()\n",
    "\n",
    "# Long moving window rolling mean\n",
    "aapl['252'] = adj_close_px.rolling(window=252).mean()\n",
    "\n",
    "# Plot the adjusted closing price, the short and long windows of rolling means\n",
    "aapl[['Adj Close', '42', '252']].plot()\n",
    "\n",
    "plt.show()"
   ]
  },
  {
   "cell_type": "markdown",
   "metadata": {},
   "source": [
    "### Volatility Calculation"
   ]
  },
  {
   "cell_type": "code",
   "execution_count": null,
   "metadata": {},
   "outputs": [],
   "source": [
    "# Define the minumum of periods to consider \n",
    "min_periods = 75 \n",
    "\n",
    "# Calculate the volatility\n",
    "vol = daily_pct_change.rolling(min_periods).std() * np.sqrt(min_periods) \n",
    "\n",
    "# Plot the volatility\n",
    "vol.plot(figsize=(10, 8))\n",
    "\n",
    "# Show the plot\n",
    "plt.show()"
   ]
  },
  {
   "cell_type": "markdown",
   "metadata": {},
   "source": [
    "### Ordinary Least-Squares Regression (OLS)"
   ]
  },
  {
   "cell_type": "code",
   "execution_count": null,
   "metadata": {},
   "outputs": [],
   "source": [
    "# Import the `api` model of `statsmodels` under alias `sm`\n",
    "import statsmodels.api as sm\n",
    "from pandas import tseries\n",
    "# from pandas.core import datetools\n",
    "\n",
    "# Isolate the adjusted closing price\n",
    "all_adj_close = all_data[['Adj Close']]\n",
    "\n",
    "# Calculate the returns \n",
    "all_returns = np.log(all_adj_close / all_adj_close.shift(1))\n",
    "\n",
    "# Isolate the AAPL returns \n",
    "aapl_returns = all_returns.iloc[all_returns.index.get_level_values('Ticker') == 'AAPL']\n",
    "aapl_returns.index = aapl_returns.index.droplevel('Ticker')\n",
    "\n",
    "# Isolate the MSFT returns\n",
    "msft_returns = all_returns.iloc[all_returns.index.get_level_values('Ticker') == 'MSFT']\n",
    "msft_returns.index = msft_returns.index.droplevel('Ticker')\n",
    "\n",
    "# Build up a new DataFrame with AAPL and MSFT returns\n",
    "return_data = pd.concat([aapl_returns, msft_returns], axis=1)[1:]\n",
    "return_data.columns = ['AAPL', 'MSFT']\n",
    "\n",
    "# Add a constant \n",
    "X = sm.add_constant(return_data['AAPL'])\n",
    "\n",
    "# Construct the model\n",
    "model = sm.OLS(return_data['MSFT'],X).fit()\n",
    "\n",
    "# Print the summary\n",
    "print(model.summary())"
   ]
  },
  {
   "cell_type": "code",
   "execution_count": null,
   "metadata": {},
   "outputs": [],
   "source": [
    "import matplotlib.pyplot as plt\n",
    "\n",
    "plt.plot(return_data['AAPL'], return_data['MSFT'], 'r.')\n",
    "\n",
    "ax = plt.axis()\n",
    "print(ax)\n",
    "x = np.linspace(ax[0], ax[1] + 0.01)\n",
    "# x = np.array([-0.1, 0.12])\n",
    "y = model.params[0] + model.params[1] * x\n",
    "print(\"x=\", x)\n",
    "print(\"y=\", y)\n",
    "plt.plot(x, y, 'b', lw=2)\n",
    "\n",
    "plt.grid(True)\n",
    "plt.axis('tight')\n",
    "plt.xlabel('Apple Returns')\n",
    "plt.ylabel('Microsoft returns')\n",
    "\n",
    "plt.show()"
   ]
  },
  {
   "cell_type": "code",
   "execution_count": null,
   "metadata": {},
   "outputs": [],
   "source": [
    "return_data['MSFT'].rolling(window=252).corr(return_data['AAPL']).plot()\n",
    "plt.show()"
   ]
  },
  {
   "cell_type": "markdown",
   "metadata": {},
   "source": [
    "<a id='tradingstrategy'></a>\n",
    "## Building A Trading Strategy With Python"
   ]
  },
  {
   "cell_type": "code",
   "execution_count": null,
   "metadata": {},
   "outputs": [],
   "source": [
    "# Initialize the short and long windows\n",
    "short_window = 40\n",
    "long_window = 100\n",
    "\n",
    "# Initialize the `signals` DataFrame with the `signal` column\n",
    "signals = pd.DataFrame(index=aapl.index)\n",
    "signals['signal'] = 0.0\n",
    "\n",
    "# Create short simple moving average over the short window\n",
    "signals['short_mavg'] = aapl['Close'].rolling(window=short_window, min_periods=1, center=False).mean()\n",
    "\n",
    "# Create long simple moving average over the long window\n",
    "signals['long_mavg'] = aapl['Close'].rolling(window=long_window, min_periods=1, center=False).mean()\n",
    "\n",
    "signals[['short_mavg', 'long_mavg']].plot()\n",
    "\n",
    "# Create signals\n",
    "signals['signal'][short_window:] = np.where(signals['short_mavg'][short_window:] \n",
    "                                            > signals['long_mavg'][short_window:], 1.0, 0.0)   \n",
    "\n",
    "# Generate trading orders\n",
    "signals['positions'] = signals['signal'].diff()\n",
    "plt.show()\n",
    "signals['signal'].plot()\n",
    "plt.show()\n",
    "signals['positions'].plot()"
   ]
  },
  {
   "cell_type": "code",
   "execution_count": null,
   "metadata": {},
   "outputs": [],
   "source": [
    "# Initialize the plot figure\n",
    "fig = plt.figure()\n",
    "\n",
    "# Add a subplot and label for y-axis\n",
    "ax1 = fig.add_subplot(111,  ylabel='Price in $')\n",
    "\n",
    "# Plot the closing price\n",
    "aapl['Close'].plot(ax=ax1, color='r', lw=2.)\n",
    "\n",
    "# Plot the short and long moving averages\n",
    "signals[['short_mavg', 'long_mavg']].plot(ax=ax1, lw=2.)\n",
    "\n",
    "# Plot the buy signals\n",
    "ax1.plot(signals.loc[signals.positions == 1.0].index, \n",
    "         signals.short_mavg[signals.positions == 1.0],\n",
    "         '^', markersize=10, color='m')\n",
    "         \n",
    "# Plot the sell signals\n",
    "ax1.plot(signals.loc[signals.positions == -1.0].index, \n",
    "         signals.short_mavg[signals.positions == -1.0],\n",
    "         'v', markersize=10, color='k')\n",
    "         \n",
    "# Show the plot\n",
    "plt.show()"
   ]
  },
  {
   "cell_type": "markdown",
   "metadata": {},
   "source": [
    "<a id='backtesting'></a>\n",
    "## Backtesting A Strategy\n",
    "\n",
    "### Implementation Of A Simple Backtester With Pandas"
   ]
  },
  {
   "cell_type": "code",
   "execution_count": null,
   "metadata": {},
   "outputs": [],
   "source": [
    "# Set the initial capital\n",
    "initial_capital= float(100000.0)\n",
    "\n",
    "# Create a DataFrame `positions`\n",
    "positions = pd.DataFrame(index=signals.index).fillna(0.0)\n",
    "\n",
    "# Buy a 100 shares\n",
    "positions['AAPL'] = 100*signals['signal']   \n",
    "  \n",
    "# Initialize the portfolio with value owned   \n",
    "portfolio = positions.multiply(aapl['Adj Close'], axis=0)\n",
    "\n",
    "# Store the difference in shares owned \n",
    "pos_diff = positions.diff()\n",
    "print(pos_diff)\n",
    "\n",
    "# Add `holdings` to portfolio\n",
    "portfolio['holdings'] = (positions.multiply(aapl['Adj Close'], axis=0)).sum(axis=1)\n",
    "\n",
    "print(\"Cumulative Sum:\")\n",
    "print((portfolio['holdings']).cumsum())\n",
    "\n",
    "# Add `cash` to portfolio\n",
    "portfolio['cash'] = initial_capital - (portfolio['holdings']).cumsum()   \n",
    "\n",
    "# Add `total` to portfolio\n",
    "portfolio['total'] = portfolio['cash'] + portfolio['holdings']\n",
    "\n",
    "# Add `returns` to portfolio\n",
    "portfolio['returns'] = portfolio['total'].pct_change()\n",
    "\n",
    "print(portfolio.tail())\n",
    "print(signals.tail())"
   ]
  },
  {
   "cell_type": "code",
   "execution_count": null,
   "metadata": {},
   "outputs": [],
   "source": [
    "import matplotlib.pyplot as plt\n",
    "\n",
    "fig = plt.figure()\n",
    "\n",
    "ax1 = fig.add_subplot(111, ylabel='Portfolio value in $')\n",
    "\n",
    "# Plot the equity curve in dollars\n",
    "portfolio['total'].plot(ax=ax1, lw=2.)\n",
    "\n",
    "# Plot the \"buy\" trades against the equity curve\n",
    "ax1.plot(portfolio.loc[signals.positions == 1.0].index, \n",
    "         portfolio.total[signals.positions == 1.0],\n",
    "         '^', markersize=10, color='m')\n",
    "\n",
    "# Plot the \"sell\" trades against the equity curve\n",
    "ax1.plot(portfolio.loc[signals.positions == -1.0].index, \n",
    "         portfolio.total[signals.positions == -1.0],\n",
    "         'v', markersize=10, color='k')\n",
    "\n",
    "# Show the plot\n",
    "plt.show()"
   ]
  },
  {
   "cell_type": "markdown",
   "metadata": {},
   "source": [
    "<a id='evaluating'></a>\n",
    "## Evaluating Moving Average Crossover Strategy \n",
    "\n",
    "### Sharpe Ratio"
   ]
  },
  {
   "cell_type": "code",
   "execution_count": null,
   "metadata": {},
   "outputs": [],
   "source": [
    "# Isolate the returns of your strategy\n",
    "returns = portfolio['returns']\n",
    "\n",
    "# annualized Sharpe ratio\n",
    "sharpe_ratio = np.sqrt(252) * (returns.mean() / returns.std())\n",
    "\n",
    "# Print the Sharpe ratio\n",
    "print(sharpe_ratio)"
   ]
  },
  {
   "cell_type": "markdown",
   "metadata": {},
   "source": [
    "### Maximum Drawdown"
   ]
  },
  {
   "cell_type": "code",
   "execution_count": null,
   "metadata": {},
   "outputs": [],
   "source": [
    "# Define a trailing 252 trading day window\n",
    "window = 252\n",
    "\n",
    "# Calculate the max drawdown in the past window days for each day\n",
    "rolling_max = aapl['Adj Close'].rolling(window, min_periods=1).max()\n",
    "daily_drawdown = aapl['Adj Close']/rolling_max - 1.0\n",
    "\n",
    "# Calculate the minimum (negative) daily drawdown\n",
    "max_daily_drawdown = daily_drawdown.rolling(window, min_periods=1).min()\n",
    "\n",
    "# Plot the results\n",
    "daily_drawdown.plot()\n",
    "max_daily_drawdown.plot()\n",
    "\n",
    "# Show the plot\n",
    "plt.show()"
   ]
  },
  {
   "cell_type": "markdown",
   "metadata": {},
   "source": [
    "### Compound Annual Growth Rate (CAGR)"
   ]
  },
  {
   "cell_type": "code",
   "execution_count": null,
   "metadata": {},
   "outputs": [],
   "source": [
    "# Get the number of days in `aapl`\n",
    "days = (aapl.index[-1] - aapl.index[0]).days\n",
    "\n",
    "# Calculate the CAGR \n",
    "cagr = ((((aapl['Adj Close'][-1]) / aapl['Adj Close'][1])) ** (365.0/days)) - 1\n",
    "\n",
    "# Print CAGR\n",
    "print(cagr)"
   ]
  }
 ],
 "metadata": {
  "kernelspec": {
   "display_name": "Python 3",
   "language": "python",
   "name": "python3"
  },
  "language_info": {
   "codemirror_mode": {
    "name": "ipython",
    "version": 3
   },
   "file_extension": ".py",
   "mimetype": "text/x-python",
   "name": "python",
   "nbconvert_exporter": "python",
   "pygments_lexer": "ipython3",
   "version": "3.7.6"
  }
 },
 "nbformat": 4,
 "nbformat_minor": 2
}
